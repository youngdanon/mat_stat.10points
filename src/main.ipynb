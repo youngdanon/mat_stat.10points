{
 "cells": [
  {
   "cell_type": "markdown",
   "metadata": {},
   "source": [
    "Importing libs and creating a dataset"
   ]
  },
  {
   "cell_type": "code",
   "execution_count": 1,
   "metadata": {
    "ExecuteTime": {
     "start_time": "2023-04-28T12:20:35.185812Z",
     "end_time": "2023-04-28T12:20:35.572767Z"
    }
   },
   "outputs": [],
   "source": [
    "import pandas as pd\n",
    "import numpy as np"
   ]
  },
  {
   "cell_type": "markdown",
   "metadata": {},
   "source": [
    "### Создаем датасет"
   ]
  },
  {
   "cell_type": "markdown",
   "metadata": {},
   "source": [
    "Inputs"
   ]
  },
  {
   "cell_type": "code",
   "execution_count": 2,
   "metadata": {
    "ExecuteTime": {
     "start_time": "2023-04-28T12:20:35.574284Z",
     "end_time": "2023-04-28T12:20:35.574284Z"
    }
   },
   "outputs": [],
   "source": [
    "np.random.seed(112312)\n",
    "n_students = 1000"
   ]
  },
  {
   "cell_type": "markdown",
   "metadata": {},
   "source": [
    "В результате выполнения этого кода мы получим датасет, содержащий информацию о 1000 студентах\n",
    "Одна запись датасета имеет несколько полей:\n",
    "1. age - возраст студента\n",
    "2. gender - пол студента\n",
    "3. gpa - средний балл\n",
    "4. major - специальность\n",
    "\n",
    "Genders:\n",
    "0 - Male\n",
    "1 - Female\n",
    "\n",
    "Majors:\n",
    "0 - Math\n",
    "1 - Physics\n",
    "2 - Chemistry\n",
    "3 - Biology"
   ]
  },
  {
   "cell_type": "code",
   "execution_count": 3,
   "metadata": {
    "ExecuteTime": {
     "start_time": "2023-04-28T12:20:35.576282Z",
     "end_time": "2023-04-28T12:20:35.581538Z"
    }
   },
   "outputs": [],
   "source": [
    "class Genders:\n",
    "    MALE = 0\n",
    "    FEMALE = 1\n",
    "\n",
    "\n",
    "class Majors:\n",
    "    MATH = 0\n",
    "    PHYSICS = 1\n",
    "    CHEMISTRY = 2\n",
    "    BIOLOGY = 3"
   ]
  },
  {
   "cell_type": "code",
   "execution_count": 4,
   "metadata": {
    "ExecuteTime": {
     "start_time": "2023-04-28T12:20:35.581538Z",
     "end_time": "2023-04-28T12:20:35.588289Z"
    }
   },
   "outputs": [],
   "source": [
    "rating = np.random.normal(3.5, 1, n_students)\n",
    "students = pd.DataFrame({\n",
    "    'age': np.random.normal(20, 2, n_students),\n",
    "    'gender': np.random.choice([Genders.MALE, Genders.FEMALE], n_students),\n",
    "    # gpa - средний балл\n",
    "    'gpa': np.random.normal(3.5, 0.3, n_students),\n",
    "    # major - специальность\n",
    "    'major': np.random.choice([Majors.MATH, Majors.PHYSICS, Majors.CHEMISTRY, Majors.BIOLOGY], n_students)\n",
    "})\n",
    "\n"
   ]
  },
  {
   "cell_type": "markdown",
   "metadata": {},
   "source": [
    "### Получение основной информации о данных:"
   ]
  },
  {
   "cell_type": "code",
   "execution_count": 5,
   "metadata": {
    "ExecuteTime": {
     "start_time": "2023-04-28T12:20:35.588289Z",
     "end_time": "2023-04-28T12:20:35.597702Z"
    }
   },
   "outputs": [
    {
     "name": "stdout",
     "output_type": "stream",
     "text": [
      "Количество наблюдений: 1000\n",
      "Количество переменных: 4\n",
      "<class 'pandas.core.frame.DataFrame'>\n",
      "RangeIndex: 1000 entries, 0 to 999\n",
      "Data columns (total 4 columns):\n",
      " #   Column  Non-Null Count  Dtype  \n",
      "---  ------  --------------  -----  \n",
      " 0   age     1000 non-null   float64\n",
      " 1   gender  1000 non-null   int32  \n",
      " 2   gpa     1000 non-null   float64\n",
      " 3   major   1000 non-null   int32  \n",
      "dtypes: float64(2), int32(2)\n",
      "memory usage: 23.6 KB\n",
      "None\n",
      "Количество пропущенных значений:n age       0\n",
      "gender    0\n",
      "gpa       0\n",
      "major     0\n",
      "dtype: int64\n"
     ]
    }
   ],
   "source": [
    "# Количество наблюдений и переменных\n",
    "print(\"Количество наблюдений:\", students.shape[0])\n",
    "print(\"Количество переменных:\", students.shape[1])\n",
    "\n",
    "# Типы данных и количество пропущенных значений\n",
    "print(students.info())\n",
    "\n",
    "# Количество пропущенных значений\n",
    "print(\"Количество пропущенных значений:n\", students.isnull().sum())"
   ]
  },
  {
   "cell_type": "markdown",
   "metadata": {},
   "source": [
    "### Вычисление основных статистических характеристик данных:"
   ]
  },
  {
   "cell_type": "markdown",
   "metadata": {},
   "source": [
    "Средние значения"
   ]
  },
  {
   "cell_type": "code",
   "execution_count": 6,
   "metadata": {
    "ExecuteTime": {
     "start_time": "2023-04-28T12:20:35.598703Z",
     "end_time": "2023-04-28T12:20:35.604256Z"
    }
   },
   "outputs": [
    {
     "name": "stdout",
     "output_type": "stream",
     "text": [
      "age       20.030460\n",
      "gender     0.492000\n",
      "gpa        3.520337\n",
      "major      1.505000\n",
      "dtype: float64\n"
     ]
    }
   ],
   "source": [
    "print(students.mean())"
   ]
  },
  {
   "cell_type": "markdown",
   "metadata": {},
   "source": [
    "Дисперсии"
   ]
  },
  {
   "cell_type": "code",
   "execution_count": 7,
   "metadata": {
    "ExecuteTime": {
     "start_time": "2023-04-28T12:20:35.603257Z",
     "end_time": "2023-04-28T12:20:35.678418Z"
    }
   },
   "outputs": [
    {
     "name": "stdout",
     "output_type": "stream",
     "text": [
      "age       4.263975\n",
      "gender    0.250186\n",
      "gpa       0.092217\n",
      "major     1.251226\n",
      "dtype: float64\n"
     ]
    }
   ],
   "source": [
    "print(students.var())"
   ]
  },
  {
   "cell_type": "markdown",
   "metadata": {},
   "source": [
    "Минимумы"
   ]
  },
  {
   "cell_type": "code",
   "execution_count": 8,
   "metadata": {
    "ExecuteTime": {
     "start_time": "2023-04-28T12:20:35.610192Z",
     "end_time": "2023-04-28T12:20:35.678418Z"
    }
   },
   "outputs": [
    {
     "name": "stdout",
     "output_type": "stream",
     "text": [
      "age       12.870987\n",
      "gender     0.000000\n",
      "gpa        2.510537\n",
      "major      0.000000\n",
      "dtype: float64\n"
     ]
    }
   ],
   "source": [
    "print(students.min())"
   ]
  },
  {
   "cell_type": "markdown",
   "metadata": {},
   "source": [
    "Максимумы"
   ]
  },
  {
   "cell_type": "code",
   "execution_count": 9,
   "metadata": {
    "ExecuteTime": {
     "start_time": "2023-04-28T12:20:35.616467Z",
     "end_time": "2023-04-28T12:20:35.679418Z"
    }
   },
   "outputs": [
    {
     "name": "stdout",
     "output_type": "stream",
     "text": [
      "age       26.288536\n",
      "gender     1.000000\n",
      "gpa        4.722976\n",
      "major      3.000000\n",
      "dtype: float64\n"
     ]
    }
   ],
   "source": [
    "print(students.max())"
   ]
  },
  {
   "cell_type": "markdown",
   "metadata": {},
   "source": [
    "Квартили"
   ]
  },
  {
   "cell_type": "code",
   "execution_count": 10,
   "metadata": {
    "ExecuteTime": {
     "start_time": "2023-04-28T12:20:35.626013Z",
     "end_time": "2023-04-28T12:20:35.679418Z"
    }
   },
   "outputs": [
    {
     "name": "stdout",
     "output_type": "stream",
     "text": [
      "            age  gender       gpa  major\n",
      "0.25  18.637489     0.0  3.300258    1.0\n",
      "0.50  20.061621     0.0  3.529795    1.0\n",
      "0.75  21.404518     1.0  3.725540    3.0\n"
     ]
    }
   ],
   "source": [
    "print(students.quantile([0.25, 0.5, 0.75]))"
   ]
  },
  {
   "cell_type": "markdown",
   "metadata": {},
   "source": [
    "Корреляции"
   ]
  },
  {
   "cell_type": "code",
   "execution_count": 11,
   "metadata": {
    "ExecuteTime": {
     "start_time": "2023-04-28T12:20:35.638252Z",
     "end_time": "2023-04-28T12:20:35.680418Z"
    }
   },
   "outputs": [
    {
     "name": "stdout",
     "output_type": "stream",
     "text": [
      "             age    gender       gpa     major\n",
      "age     1.000000  0.029840  0.012945  0.044914\n",
      "gender  0.029840  1.000000 -0.019188  0.006333\n",
      "gpa     0.012945 -0.019188  1.000000 -0.097600\n",
      "major   0.044914  0.006333 -0.097600  1.000000\n"
     ]
    }
   ],
   "source": [
    "print(students.corr())"
   ]
  },
  {
   "cell_type": "markdown",
   "metadata": {},
   "source": []
  },
  {
   "cell_type": "markdown",
   "metadata": {},
   "source": [
    "### Нарисовать гистограммы и боксплоты:"
   ]
  },
  {
   "cell_type": "code",
   "execution_count": 12,
   "metadata": {
    "ExecuteTime": {
     "start_time": "2023-04-28T12:20:35.640765Z",
     "end_time": "2023-04-28T12:20:35.960797Z"
    }
   },
   "outputs": [],
   "source": [
    "import matplotlib.pyplot as plt"
   ]
  },
  {
   "cell_type": "markdown",
   "metadata": {},
   "source": [
    "Гистограммы\n"
   ]
  },
  {
   "cell_type": "code",
   "execution_count": 13,
   "metadata": {
    "ExecuteTime": {
     "start_time": "2023-04-28T12:20:35.962798Z",
     "end_time": "2023-04-28T12:20:36.336327Z"
    }
   },
   "outputs": [
    {
     "data": {
      "text/plain": "<Figure size 1000x800 with 4 Axes>",
      "image/png": "[encoded data removed]"
     },
     "metadata": {},
     "output_type": "display_data"
    }
   ],
   "source": [
    "students.hist(bins=20, figsize=(10, 8))\n",
    "plt.show()"
   ]
  },
  {
   "cell_type": "markdown",
   "metadata": {},
   "source": [
    "Боксплоты"
   ]
  },
  {
   "cell_type": "code",
   "execution_count": 14,
   "metadata": {
    "ExecuteTime": {
     "start_time": "2023-04-28T12:20:36.344333Z",
     "end_time": "2023-04-28T12:20:36.430942Z"
    }
   },
   "outputs": [
    {
     "data": {
      "text/plain": "<Figure size 1000x800 with 1 Axes>",
      "image/png": "[encoded data removed]"
     },
     "metadata": {},
     "output_type": "display_data"
    }
   ],
   "source": [
    "students.boxplot(figsize=(10, 8))\n",
    "plt.show()"
   ]
  },
  {
   "cell_type": "markdown",
   "metadata": {},
   "source": [
    " ### Определение выбросов:"
   ]
  },
  {
   "cell_type": "code",
   "execution_count": 15,
   "metadata": {
    "ExecuteTime": {
     "start_time": "2023-04-28T12:20:36.410822Z",
     "end_time": "2023-04-28T12:20:36.430942Z"
    }
   },
   "outputs": [
    {
     "name": "stdout",
     "output_type": "stream",
     "text": [
      "Количество выбросов:\n",
      " age       5\n",
      "gender    0\n",
      "gpa       9\n",
      "major     0\n",
      "dtype: int64\n"
     ]
    }
   ],
   "source": [
    "Q1 = students.quantile(0.25)\n",
    "Q3 = students.quantile(0.75)\n",
    "IQR = Q3 - Q1\n",
    "outliers = ((students < (Q1 - 1.5 * IQR)) | (students > (Q3 + 1.5 * IQR))).sum()\n",
    "print(\"Количество выбросов:\\n\", outliers)"
   ]
  },
  {
   "cell_type": "markdown",
   "metadata": {},
   "source": [
    "### Проверка гипотезы:\n",
    "Пример проверки гипотезы о равенстве средних значений двух выборок"
   ]
  },
  {
   "cell_type": "code",
   "execution_count": 16,
   "metadata": {
    "ExecuteTime": {
     "start_time": "2023-04-28T12:20:36.418944Z",
     "end_time": "2023-04-28T12:20:36.859960Z"
    }
   },
   "outputs": [
    {
     "name": "stdout",
     "output_type": "stream",
     "text": [
      "t-статистика: 2.3867897894013455\n",
      "p-значение: 0.01736042803622747\n"
     ]
    }
   ],
   "source": [
    "from scipy.stats import ttest_ind\n",
    "\n",
    "math_gpa = students[students['major'] == Majors.MATH]['gpa']\n",
    "physics_gpa = students[students['major'] == Majors.PHYSICS]['gpa']\n",
    "\n",
    "t_stat, p_value = ttest_ind(math_gpa, physics_gpa)\n",
    "print(\"t-статистика:\", t_stat)\n",
    "print(\"p-значение:\", p_value)"
   ]
  },
  {
   "cell_type": "markdown",
   "metadata": {},
   "source": [
    "### Построение линейной регрессии"
   ]
  },
  {
   "cell_type": "code",
   "execution_count": 17,
   "metadata": {
    "ExecuteTime": {
     "start_time": "2023-04-28T12:20:36.859960Z",
     "end_time": "2023-04-28T12:20:36.865922Z"
    }
   },
   "outputs": [
    {
     "name": "stdout",
     "output_type": "stream",
     "text": [
      "Коэффициенты регрессии: 0.0019036526584727395\n",
      "Свободный член: 3.4822059420601086\n",
      "p-значение: 0.6826498116134554\n"
     ]
    }
   ],
   "source": [
    "from scipy.stats import linregress\n",
    "\n",
    "x = students['age']\n",
    "y = students['gpa']\n",
    "\n",
    "slope, intercept, r_value, p_value, std_err = linregress(x, y)\n",
    "\n",
    "print(\"Коэффициенты регрессии:\", slope)\n",
    "print(\"Свободный член:\", intercept)\n",
    "print(\"p-значение:\", p_value)\n"
   ]
  },
  {
   "cell_type": "code",
   "execution_count": 17,
   "outputs": [],
   "source": [],
   "metadata": {
    "collapsed": false,
    "ExecuteTime": {
     "start_time": "2023-04-28T12:20:36.864404Z",
     "end_time": "2023-04-28T12:20:36.868921Z"
    }
   }
  }
 ],
 "metadata": {
  "kernelspec": {
   "display_name": "Python 3 (ipykernel)",
   "language": "python",
   "name": "python3"
  },
  "language_info": {
   "codemirror_mode": {
    "name": "ipython",
    "version": 3
   },
   "file_extension": ".py",
   "mimetype": "text/x-python",
   "name": "python",
   "nbconvert_exporter": "python",
   "pygments_lexer": "ipython3",
   "version": "3.11.0"
  }
 },
 "nbformat": 4,
 "nbformat_minor": 1
}
