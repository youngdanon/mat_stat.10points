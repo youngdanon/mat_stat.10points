{
 "cells": [
  {
   "cell_type": "markdown",
   "metadata": {},
   "source": [
    "Importing libs and creating a dataset"
   ]
  },
  {
   "cell_type": "code",
   "execution_count": 1,
   "metadata": {
    "ExecuteTime": {
     "start_time": "2023-04-28T23:27:07.285279Z",
     "end_time": "2023-04-28T23:27:07.370919Z"
    }
   },
   "outputs": [],
   "source": [
    "import pandas as pd"
   ]
  },
  {
   "cell_type": "markdown",
   "metadata": {},
   "source": [
    "### Создаем датасет"
   ]
  },
  {
   "cell_type": "code",
   "execution_count": 2,
   "metadata": {
    "ExecuteTime": {
     "start_time": "2023-04-28T23:27:07.289287Z",
     "end_time": "2023-04-28T23:27:07.427928Z"
    }
   },
   "outputs": [
    {
     "name": "stdout",
     "output_type": "stream",
     "text": [
      "   Country  Total Cases  Total Deaths  Total Recovered  Active Cases   \n",
      "0      USA     98166904     1084282.0       94962112.0     2120510.0  \\\n",
      "1    India     44587307      528629.0       44019095.0       39583.0   \n",
      "2   France     35342950      155078.0       34527115.0      660757.0   \n",
      "3   Brazil     34706757      686027.0       33838636.0      182094.0   \n",
      "4  Germany     33312373      149948.0       32315200.0      847225.0   \n",
      "\n",
      "   Serious, Critical   Total Tests    Population  \n",
      "0             2970.0  1.118159e+09  3.348053e+08  \n",
      "1              698.0  8.944169e+08  1.406632e+09  \n",
      "2              869.0  2.714902e+08  6.558452e+07  \n",
      "3             8318.0  6.377617e+07  2.153536e+08  \n",
      "4             1406.0  1.223324e+08  8.388360e+07  \n"
     ]
    }
   ],
   "source": [
    "covid_df = pd.read_csv('data.csv')\n",
    "covid_df.drop(['#', 'New Deaths', 'Tot Cases/1M pop', 'Deaths/1M pop', 'Tests/1M pop'], axis=1, inplace=True)\n",
    "covid_df = covid_df.replace(',', '', regex=True)\n",
    "cols_to_convert = covid_df.columns.difference(['Country'])\n",
    "covid_df[cols_to_convert] = covid_df[cols_to_convert].apply(pd.to_numeric, errors='coerce', downcast='integer')\n",
    "\n",
    "print(covid_df.head())"
   ]
  },
  {
   "cell_type": "markdown",
   "metadata": {},
   "source": [
    "### Получение основной информации о данных:"
   ]
  },
  {
   "cell_type": "code",
   "execution_count": 3,
   "metadata": {
    "ExecuteTime": {
     "start_time": "2023-04-28T23:27:07.312081Z",
     "end_time": "2023-04-28T23:27:07.441441Z"
    }
   },
   "outputs": [
    {
     "name": "stdout",
     "output_type": "stream",
     "text": [
      "Количество наблюдений: 230\n",
      "Количество переменных: 8\n",
      "Типы данных:\n",
      "Country               object\n",
      "Total Cases            int32\n",
      "Total Deaths         float64\n",
      "Total Recovered      float64\n",
      "Active Cases         float64\n",
      "Serious, Critical    float64\n",
      "Total Tests          float64\n",
      "Population           float64\n",
      "dtype: object\n",
      "Количество пропущенных значений:\n",
      "Country               0\n",
      "Total Cases           0\n",
      "Total Deaths          5\n",
      "Total Recovered      16\n",
      "Active Cases         15\n",
      "Serious, Critical    83\n",
      "Total Tests          16\n",
      "Population            2\n",
      "dtype: int64\n"
     ]
    }
   ],
   "source": [
    "# Количество наблюдений и переменных\n",
    "print(\"Количество наблюдений:\", covid_df.shape[0])\n",
    "print(\"Количество переменных:\", covid_df.shape[1])\n",
    "print(\"Типы данных:\")\n",
    "print(covid_df.dtypes)\n",
    "print(\"Количество пропущенных значений:\")\n",
    "print(covid_df.isna().sum())"
   ]
  },
  {
   "cell_type": "markdown",
   "metadata": {},
   "source": [
    "### Вычисление основных статистических характеристик данных:"
   ]
  },
  {
   "cell_type": "code",
   "execution_count": 4,
   "metadata": {
    "ExecuteTime": {
     "start_time": "2023-04-28T23:27:07.317847Z",
     "end_time": "2023-04-28T23:27:07.445438Z"
    }
   },
   "outputs": [
    {
     "data": {
      "text/plain": "        Total Cases  Total Deaths  Total Recovered  Active Cases   \ncount  2.300000e+02  2.250000e+02     2.140000e+02  2.150000e+02  \\\nmean   2.705969e+06  2.909820e+04     2.807255e+06  5.744895e+04   \nstd    8.779899e+06  1.022137e+05     8.815291e+06  2.073823e+05   \nmin    9.000000e+00  1.000000e+00     2.000000e+00  0.000000e+00   \n25%    2.364900e+04  2.020000e+02     1.968325e+04  1.320000e+02   \n50%    2.037110e+05  2.179000e+03     2.250110e+05  1.246000e+03   \n75%    1.256286e+06  1.412200e+04     1.437441e+06  1.923950e+04   \nmax    9.816690e+07  1.084282e+06     9.496211e+07  2.120510e+06   \n\n       Serious, Critical   Total Tests    Population  \ncount         147.000000  2.140000e+02  2.280000e+02  \nmean          270.224490  3.137011e+07  3.484620e+07  \nstd           922.698201  1.144561e+08  1.389233e+08  \nmin             1.000000  5.117000e+03  7.990000e+02  \n25%             4.500000  3.462602e+05  5.170965e+05  \n50%            18.000000  2.172044e+06  5.816378e+06  \n75%           101.000000  1.267585e+07  2.254928e+07  \nmax          8318.000000  1.118159e+09  1.448471e+09  ",
      "text/html": "<div>\n<style scoped>\n    .dataframe tbody tr th:only-of-type {\n        vertical-align: middle;\n    }\n\n    .dataframe tbody tr th {\n        vertical-align: top;\n    }\n\n    .dataframe thead th {\n        text-align: right;\n    }\n</style>\n<table border=\"1\" class=\"dataframe\">\n  <thead>\n    <tr style=\"text-align: right;\">\n      <th></th>\n      <th>Total Cases</th>\n      <th>Total Deaths</th>\n      <th>Total Recovered</th>\n      <th>Active Cases</th>\n      <th>Serious, Critical</th>\n      <th>Total Tests</th>\n      <th>Population</th>\n    </tr>\n  </thead>\n  <tbody>\n    <tr>\n      <th>count</th>\n      <td>2.300000e+02</td>\n      <td>2.250000e+02</td>\n      <td>2.140000e+02</td>\n      <td>2.150000e+02</td>\n      <td>147.000000</td>\n      <td>2.140000e+02</td>\n      <td>2.280000e+02</td>\n    </tr>\n    <tr>\n      <th>mean</th>\n      <td>2.705969e+06</td>\n      <td>2.909820e+04</td>\n      <td>2.807255e+06</td>\n      <td>5.744895e+04</td>\n      <td>270.224490</td>\n      <td>3.137011e+07</td>\n      <td>3.484620e+07</td>\n    </tr>\n    <tr>\n      <th>std</th>\n      <td>8.779899e+06</td>\n      <td>1.022137e+05</td>\n      <td>8.815291e+06</td>\n      <td>2.073823e+05</td>\n      <td>922.698201</td>\n      <td>1.144561e+08</td>\n      <td>1.389233e+08</td>\n    </tr>\n    <tr>\n      <th>min</th>\n      <td>9.000000e+00</td>\n      <td>1.000000e+00</td>\n      <td>2.000000e+00</td>\n      <td>0.000000e+00</td>\n      <td>1.000000</td>\n      <td>5.117000e+03</td>\n      <td>7.990000e+02</td>\n    </tr>\n    <tr>\n      <th>25%</th>\n      <td>2.364900e+04</td>\n      <td>2.020000e+02</td>\n      <td>1.968325e+04</td>\n      <td>1.320000e+02</td>\n      <td>4.500000</td>\n      <td>3.462602e+05</td>\n      <td>5.170965e+05</td>\n    </tr>\n    <tr>\n      <th>50%</th>\n      <td>2.037110e+05</td>\n      <td>2.179000e+03</td>\n      <td>2.250110e+05</td>\n      <td>1.246000e+03</td>\n      <td>18.000000</td>\n      <td>2.172044e+06</td>\n      <td>5.816378e+06</td>\n    </tr>\n    <tr>\n      <th>75%</th>\n      <td>1.256286e+06</td>\n      <td>1.412200e+04</td>\n      <td>1.437441e+06</td>\n      <td>1.923950e+04</td>\n      <td>101.000000</td>\n      <td>1.267585e+07</td>\n      <td>2.254928e+07</td>\n    </tr>\n    <tr>\n      <th>max</th>\n      <td>9.816690e+07</td>\n      <td>1.084282e+06</td>\n      <td>9.496211e+07</td>\n      <td>2.120510e+06</td>\n      <td>8318.000000</td>\n      <td>1.118159e+09</td>\n      <td>1.448471e+09</td>\n    </tr>\n  </tbody>\n</table>\n</div>"
     },
     "execution_count": 4,
     "metadata": {},
     "output_type": "execute_result"
    }
   ],
   "source": [
    "covid_df.describe()"
   ]
  },
  {
   "cell_type": "code",
   "execution_count": 5,
   "outputs": [
    {
     "data": {
      "text/plain": "                   Active Cases  Population  Serious, Critical  Total Cases   \nActive Cases           1.000000    0.155051           0.409526     0.804822  \\\nPopulation             0.155051    1.000000           0.202859     0.391914   \nSerious, Critical      0.409526    0.202859           1.000000     0.496345   \nTotal Cases            0.804822    0.391914           0.496345     1.000000   \nTotal Deaths           0.655613    0.418265           0.706480     0.890765   \nTotal Recovered        0.797077    0.392310           0.490444     0.999904   \nTotal Tests            0.583222    0.542239           0.271132     0.860259   \n\n                   Total Deaths  Total Recovered  Total Tests  \nActive Cases           0.655613         0.797077     0.583222  \nPopulation             0.418265         0.392310     0.542239  \nSerious, Critical      0.706480         0.490444     0.271132  \nTotal Cases            0.890765         0.999904     0.860259  \nTotal Deaths           1.000000         0.889144     0.786278  \nTotal Recovered        0.889144         1.000000     0.861810  \nTotal Tests            0.786278         0.861810     1.000000  ",
      "text/html": "<div>\n<style scoped>\n    .dataframe tbody tr th:only-of-type {\n        vertical-align: middle;\n    }\n\n    .dataframe tbody tr th {\n        vertical-align: top;\n    }\n\n    .dataframe thead th {\n        text-align: right;\n    }\n</style>\n<table border=\"1\" class=\"dataframe\">\n  <thead>\n    <tr style=\"text-align: right;\">\n      <th></th>\n      <th>Active Cases</th>\n      <th>Population</th>\n      <th>Serious, Critical</th>\n      <th>Total Cases</th>\n      <th>Total Deaths</th>\n      <th>Total Recovered</th>\n      <th>Total Tests</th>\n    </tr>\n  </thead>\n  <tbody>\n    <tr>\n      <th>Active Cases</th>\n      <td>1.000000</td>\n      <td>0.155051</td>\n      <td>0.409526</td>\n      <td>0.804822</td>\n      <td>0.655613</td>\n      <td>0.797077</td>\n      <td>0.583222</td>\n    </tr>\n    <tr>\n      <th>Population</th>\n      <td>0.155051</td>\n      <td>1.000000</td>\n      <td>0.202859</td>\n      <td>0.391914</td>\n      <td>0.418265</td>\n      <td>0.392310</td>\n      <td>0.542239</td>\n    </tr>\n    <tr>\n      <th>Serious, Critical</th>\n      <td>0.409526</td>\n      <td>0.202859</td>\n      <td>1.000000</td>\n      <td>0.496345</td>\n      <td>0.706480</td>\n      <td>0.490444</td>\n      <td>0.271132</td>\n    </tr>\n    <tr>\n      <th>Total Cases</th>\n      <td>0.804822</td>\n      <td>0.391914</td>\n      <td>0.496345</td>\n      <td>1.000000</td>\n      <td>0.890765</td>\n      <td>0.999904</td>\n      <td>0.860259</td>\n    </tr>\n    <tr>\n      <th>Total Deaths</th>\n      <td>0.655613</td>\n      <td>0.418265</td>\n      <td>0.706480</td>\n      <td>0.890765</td>\n      <td>1.000000</td>\n      <td>0.889144</td>\n      <td>0.786278</td>\n    </tr>\n    <tr>\n      <th>Total Recovered</th>\n      <td>0.797077</td>\n      <td>0.392310</td>\n      <td>0.490444</td>\n      <td>0.999904</td>\n      <td>0.889144</td>\n      <td>1.000000</td>\n      <td>0.861810</td>\n    </tr>\n    <tr>\n      <th>Total Tests</th>\n      <td>0.583222</td>\n      <td>0.542239</td>\n      <td>0.271132</td>\n      <td>0.860259</td>\n      <td>0.786278</td>\n      <td>0.861810</td>\n      <td>1.000000</td>\n    </tr>\n  </tbody>\n</table>\n</div>"
     },
     "execution_count": 5,
     "metadata": {},
     "output_type": "execute_result"
    }
   ],
   "source": [
    "covid_df[cols_to_convert].corr()"
   ],
   "metadata": {
    "collapsed": false,
    "ExecuteTime": {
     "start_time": "2023-04-28T23:27:07.338660Z",
     "end_time": "2023-04-28T23:27:07.447437Z"
    }
   }
  },
  {
   "cell_type": "markdown",
   "metadata": {},
   "source": [
    "### Нарисовать гистограммы и боксплоты:"
   ]
  },
  {
   "cell_type": "code",
   "execution_count": 6,
   "metadata": {
    "ExecuteTime": {
     "start_time": "2023-04-28T23:27:07.349595Z",
     "end_time": "2023-04-28T23:27:07.448439Z"
    }
   },
   "outputs": [],
   "source": [
    "import matplotlib.pyplot as plt"
   ]
  },
  {
   "cell_type": "markdown",
   "metadata": {},
   "source": [
    "#### Гистограммы\n"
   ]
  },
  {
   "cell_type": "code",
   "execution_count": 7,
   "metadata": {
    "ExecuteTime": {
     "start_time": "2023-04-28T23:27:07.352921Z",
     "end_time": "2023-04-28T23:27:08.191499Z"
    }
   },
   "outputs": [
    {
     "data": {
      "text/plain": "<Figure size 1000x800 with 9 Axes>",
      "image/png": "[encoded data removed]"
     },
     "metadata": {},
     "output_type": "display_data"
    }
   ],
   "source": [
    "covid_df.hist(figsize=(10, 8))\n",
    "plt.show()"
   ]
  },
  {
   "cell_type": "markdown",
   "metadata": {},
   "source": [
    "#### Боксплоты"
   ]
  },
  {
   "cell_type": "code",
   "execution_count": 8,
   "metadata": {
    "ExecuteTime": {
     "start_time": "2023-04-28T23:27:08.191499Z",
     "end_time": "2023-04-28T23:27:08.280372Z"
    }
   },
   "outputs": [
    {
     "data": {
      "text/plain": "<Figure size 640x480 with 1 Axes>",
      "image/png": "[encoded data removed]"
     },
     "metadata": {},
     "output_type": "display_data"
    }
   ],
   "source": [
    "covid_df.boxplot(column=['Total Cases'])\n",
    "plt.show()"
   ]
  },
  {
   "cell_type": "code",
   "execution_count": 9,
   "metadata": {
    "ExecuteTime": {
     "start_time": "2023-04-28T23:27:08.258375Z",
     "end_time": "2023-04-28T23:27:08.351046Z"
    }
   },
   "outputs": [
    {
     "data": {
      "text/plain": "<Figure size 640x480 with 1 Axes>",
      "image/png": "[encoded data removed]"
     },
     "metadata": {},
     "output_type": "display_data"
    }
   ],
   "source": [
    "covid_df.boxplot(column=['Total Deaths'])\n",
    "plt.show()"
   ]
  },
  {
   "cell_type": "code",
   "execution_count": 10,
   "metadata": {
    "ExecuteTime": {
     "start_time": "2023-04-28T23:27:08.321528Z",
     "end_time": "2023-04-28T23:27:08.402273Z"
    }
   },
   "outputs": [
    {
     "data": {
      "text/plain": "<Figure size 640x480 with 1 Axes>",
      "image/png": "[encoded data removed]"
     },
     "metadata": {},
     "output_type": "display_data"
    }
   ],
   "source": [
    "covid_df.boxplot(column=['Total Recovered'])\n",
    "plt.show()"
   ]
  },
  {
   "cell_type": "code",
   "execution_count": 11,
   "metadata": {
    "ExecuteTime": {
     "start_time": "2023-04-28T23:27:08.385275Z",
     "end_time": "2023-04-28T23:27:08.474985Z"
    }
   },
   "outputs": [
    {
     "data": {
      "text/plain": "<Figure size 640x480 with 1 Axes>",
      "image/png": "[encoded data removed]"
     },
     "metadata": {},
     "output_type": "display_data"
    }
   ],
   "source": [
    "covid_df.boxplot(column=['Active Cases'])\n",
    "plt.show()"
   ]
  },
  {
   "cell_type": "code",
   "execution_count": 12,
   "metadata": {
    "ExecuteTime": {
     "start_time": "2023-04-28T23:27:08.442989Z",
     "end_time": "2023-04-28T23:27:08.542297Z"
    }
   },
   "outputs": [
    {
     "data": {
      "text/plain": "<Figure size 640x480 with 1 Axes>",
      "image/png": "[encoded data removed]"
     },
     "metadata": {},
     "output_type": "display_data"
    }
   ],
   "source": [
    "covid_df.boxplot(column=['Serious, Critical'])\n",
    "plt.show()"
   ]
  },
  {
   "cell_type": "code",
   "execution_count": 13,
   "metadata": {
    "ExecuteTime": {
     "start_time": "2023-04-28T23:27:08.505174Z",
     "end_time": "2023-04-28T23:27:08.600301Z"
    }
   },
   "outputs": [
    {
     "data": {
      "text/plain": "<Figure size 640x480 with 1 Axes>",
      "image/png": "[encoded data removed]"
     },
     "metadata": {},
     "output_type": "display_data"
    }
   ],
   "source": [
    "covid_df.boxplot(column=['Total Tests'])\n",
    "plt.show()"
   ]
  },
  {
   "cell_type": "code",
   "execution_count": 14,
   "metadata": {
    "ExecuteTime": {
     "start_time": "2023-04-28T23:27:08.575302Z",
     "end_time": "2023-04-28T23:27:08.665946Z"
    }
   },
   "outputs": [
    {
     "data": {
      "text/plain": "<Figure size 640x480 with 1 Axes>",
      "image/png": "[encoded data removed]"
     },
     "metadata": {},
     "output_type": "display_data"
    }
   ],
   "source": [
    "covid_df.boxplot(column=['Population'])\n",
    "plt.show()"
   ]
  },
  {
   "cell_type": "markdown",
   "metadata": {},
   "source": [
    "### Определение выбросов:"
   ]
  },
  {
   "cell_type": "markdown",
   "source": [
    "#### Выбросы по столбцу Total Cases"
   ],
   "metadata": {
    "collapsed": false
   }
  },
  {
   "cell_type": "code",
   "execution_count": 15,
   "outputs": [
    {
     "name": "stdout",
     "output_type": "stream",
     "text": [
      "Выбросы:\n",
      "         Country  Total Cases  Total Deaths  Total Recovered  Active Cases   \n",
      "0            USA     98166904     1084282.0       94962112.0     2120510.0  \\\n",
      "1          India     44587307      528629.0       44019095.0       39583.0   \n",
      "2         France     35342950      155078.0       34527115.0      660757.0   \n",
      "3         Brazil     34706757      686027.0       33838636.0      182094.0   \n",
      "4        Germany     33312373      149948.0       32315200.0      847225.0   \n",
      "5       S. Korea     24769101       28406.0       24013461.0      727234.0   \n",
      "6             UK     23621952      189919.0       23347871.0       84162.0   \n",
      "7          Italy     22432803      177054.0       21779604.0      476145.0   \n",
      "8          Japan     21229216       44678.0       20380089.0      804449.0   \n",
      "9         Russia     20948470      387163.0       19979763.0      581544.0   \n",
      "10        Turkey     16873793      101139.0       16754301.0       18353.0   \n",
      "11         Spain     13412263      114084.0       13218892.0       79287.0   \n",
      "12       Vietnam     11477886       43148.0       10590917.0      843821.0   \n",
      "13     Australia     10209239       14984.0       10133494.0       60761.0   \n",
      "14     Argentina      9708420      129897.0        9563348.0       15175.0   \n",
      "15   Netherlands      8422336       22643.0        8362464.0       37229.0   \n",
      "16          Iran      7548320      144421.0        7325370.0       78529.0   \n",
      "17        Mexico      7084488      330065.0        6353953.0      400470.0   \n",
      "18     Indonesia      6429767      158093.0        6253317.0       18357.0   \n",
      "19        Taiwan      6417941       11003.0        5603195.0      803743.0   \n",
      "20      Colombia      6307372      141794.0        6134690.0       30888.0   \n",
      "21        Poland      6289672      117539.0        5335940.0      836193.0   \n",
      "22      Portugal      5490639       25024.0        5394788.0       70827.0   \n",
      "23       Ukraine      5177217      109206.0        4973554.0       94457.0   \n",
      "24       Austria      5118512       20738.0        5006572.0       91202.0   \n",
      "25        Greece      4920192       33111.0        4836903.0       50178.0   \n",
      "26      Malaysia      4838872       36369.0        4777329.0       25174.0   \n",
      "27          DPRK      4772813          74.0        4772739.0           0.0   \n",
      "28      Thailand      4681309       32767.0        4642083.0        6459.0   \n",
      "29        Israel      4661096       11698.0        4641394.0        8004.0   \n",
      "30         Chile      4620377       61141.0        4540886.0       18350.0   \n",
      "31       Belgium      4533249       32659.0        4451569.0       49021.0   \n",
      "32        Canada      4233468       44992.0        4131367.0       57109.0   \n",
      "33          Peru      4143085      216539.0        3914598.0       11948.0   \n",
      "34       Czechia      4100480       41059.0        4035333.0       24088.0   \n",
      "35   Switzerland      4084307       14183.0        4012833.0       57291.0   \n",
      "36  South Africa      4018769      102185.0        3909265.0        7319.0   \n",
      "37   Philippines      3945566       62916.0        3854478.0       28172.0   \n",
      "38       Romania      3267370       67016.0        3180124.0       20230.0   \n",
      "39       Denmark      3110831        7065.0        3093396.0       10370.0   \n",
      "\n",
      "    Serious, Critical   Total Tests    Population  \n",
      "0              2970.0  1.118159e+09  3.348053e+08  \n",
      "1               698.0  8.944169e+08  1.406632e+09  \n",
      "2               869.0  2.714902e+08  6.558452e+07  \n",
      "3              8318.0  6.377617e+07  2.153536e+08  \n",
      "4              1406.0  1.223324e+08  8.388360e+07  \n",
      "5               352.0  1.580406e+07  5.132990e+07  \n",
      "6               146.0  5.225265e+08  6.849791e+07  \n",
      "7               141.0  2.466365e+08  6.026277e+07  \n",
      "8               204.0  7.620141e+07  1.255848e+08  \n",
      "9              2300.0  2.734000e+08  1.458059e+08  \n",
      "10              975.0  1.627434e+08  8.556198e+07  \n",
      "11              339.0  4.710363e+08  4.671914e+07  \n",
      "12              106.0  8.582655e+07  9.895354e+07  \n",
      "13               49.0  7.883505e+07  2.606879e+07  \n",
      "14              294.0  3.571607e+07  4.601023e+07  \n",
      "15               35.0  2.110740e+07  1.721145e+07  \n",
      "16              157.0  5.409556e+07  8.602284e+07  \n",
      "17             4798.0  1.839321e+07  1.315628e+08  \n",
      "18             2771.0  1.086570e+08  2.791345e+08  \n",
      "19                NaN  2.599842e+07  2.388860e+07  \n",
      "20              342.0  3.657272e+07  5.151276e+07  \n",
      "21             3086.0  3.733561e+07  3.773978e+07  \n",
      "22               61.0  4.498831e+07  1.014057e+07  \n",
      "23              177.0  1.952125e+07  4.319212e+07  \n",
      "24               47.0  1.975438e+08  9.066710e+06  \n",
      "25              115.0  9.413997e+07  1.031664e+07  \n",
      "26               43.0  6.460426e+07  3.318107e+07  \n",
      "27                NaN           NaN  2.599068e+07  \n",
      "28             1496.0  1.727078e+07  7.007820e+07  \n",
      "29              101.0  4.137336e+07  9.326000e+06  \n",
      "30              124.0  4.512897e+07  1.925020e+07  \n",
      "31               48.0  3.555551e+07  1.166828e+07  \n",
      "32               99.0  6.492888e+07  3.838842e+07  \n",
      "33              147.0  3.512638e+07  3.368421e+07  \n",
      "34               39.0  5.621274e+07  1.073678e+07  \n",
      "35               54.0  2.231854e+07  8.773637e+06  \n",
      "36              192.0  2.617443e+07  6.075614e+07  \n",
      "37              696.0  3.279635e+07  1.125090e+08  \n",
      "38              123.0  2.509413e+07  1.903134e+07  \n",
      "39                NaN  1.283977e+08  5.834950e+06  \n",
      "Количество выбросов: 40\n"
     ]
    }
   ],
   "source": [
    "q1 = covid_df['Total Cases'].quantile(0.25)\n",
    "q3 = covid_df['Total Cases'].quantile(0.75)\n",
    "iqr = q3 - q1\n",
    "outliers = ((covid_df['Total Cases'] < (q1 - 1.5 * iqr)) | (covid_df['Total Cases'] > (q3 + 1.5 * iqr)))\n",
    "print(\"Выбросы:\")\n",
    "print(covid_df[outliers])\n",
    "print(\"Количество выбросов:\", covid_df[outliers].shape[0])"
   ],
   "metadata": {
    "collapsed": false,
    "ExecuteTime": {
     "start_time": "2023-04-28T23:27:08.645283Z",
     "end_time": "2023-04-28T23:27:08.665946Z"
    }
   }
  },
  {
   "cell_type": "markdown",
   "source": [
    "#### Выбросы по столбцу Total Deaths"
   ],
   "metadata": {
    "collapsed": false
   }
  },
  {
   "cell_type": "code",
   "execution_count": 16,
   "outputs": [
    {
     "name": "stdout",
     "output_type": "stream",
     "text": [
      "Выбросы:\n",
      "         Country  Total Cases  Total Deaths  Total Recovered  Active Cases   \n",
      "0            USA     98166904     1084282.0       94962112.0     2120510.0  \\\n",
      "1          India     44587307      528629.0       44019095.0       39583.0   \n",
      "2         France     35342950      155078.0       34527115.0      660757.0   \n",
      "3         Brazil     34706757      686027.0       33838636.0      182094.0   \n",
      "4        Germany     33312373      149948.0       32315200.0      847225.0   \n",
      "6             UK     23621952      189919.0       23347871.0       84162.0   \n",
      "7          Italy     22432803      177054.0       21779604.0      476145.0   \n",
      "8          Japan     21229216       44678.0       20380089.0      804449.0   \n",
      "9         Russia     20948470      387163.0       19979763.0      581544.0   \n",
      "10        Turkey     16873793      101139.0       16754301.0       18353.0   \n",
      "11         Spain     13412263      114084.0       13218892.0       79287.0   \n",
      "12       Vietnam     11477886       43148.0       10590917.0      843821.0   \n",
      "14     Argentina      9708420      129897.0        9563348.0       15175.0   \n",
      "16          Iran      7548320      144421.0        7325370.0       78529.0   \n",
      "17        Mexico      7084488      330065.0        6353953.0      400470.0   \n",
      "18     Indonesia      6429767      158093.0        6253317.0       18357.0   \n",
      "20      Colombia      6307372      141794.0        6134690.0       30888.0   \n",
      "21        Poland      6289672      117539.0        5335940.0      836193.0   \n",
      "23       Ukraine      5177217      109206.0        4973554.0       94457.0   \n",
      "26      Malaysia      4838872       36369.0        4777329.0       25174.0   \n",
      "30         Chile      4620377       61141.0        4540886.0       18350.0   \n",
      "32        Canada      4233468       44992.0        4131367.0       57109.0   \n",
      "33          Peru      4143085      216539.0        3914598.0       11948.0   \n",
      "34       Czechia      4100480       41059.0        4035333.0       24088.0   \n",
      "36  South Africa      4018769      102185.0        3909265.0        7319.0   \n",
      "37   Philippines      3945566       62916.0        3854478.0       28172.0   \n",
      "38       Romania      3267370       67016.0        3180124.0       20230.0   \n",
      "43       Hungary      2094142       47503.0        2014175.0       32464.0   \n",
      "57      Bulgaria      1258670       37714.0        1211397.0        9559.0   \n",
      "68       Ecuador      1003778       35894.0         964320.0        3564.0   \n",
      "\n",
      "    Serious, Critical   Total Tests    Population  \n",
      "0              2970.0  1.118159e+09  3.348053e+08  \n",
      "1               698.0  8.944169e+08  1.406632e+09  \n",
      "2               869.0  2.714902e+08  6.558452e+07  \n",
      "3              8318.0  6.377617e+07  2.153536e+08  \n",
      "4              1406.0  1.223324e+08  8.388360e+07  \n",
      "6               146.0  5.225265e+08  6.849791e+07  \n",
      "7               141.0  2.466365e+08  6.026277e+07  \n",
      "8               204.0  7.620141e+07  1.255848e+08  \n",
      "9              2300.0  2.734000e+08  1.458059e+08  \n",
      "10              975.0  1.627434e+08  8.556198e+07  \n",
      "11              339.0  4.710363e+08  4.671914e+07  \n",
      "12              106.0  8.582655e+07  9.895354e+07  \n",
      "14              294.0  3.571607e+07  4.601023e+07  \n",
      "16              157.0  5.409556e+07  8.602284e+07  \n",
      "17             4798.0  1.839321e+07  1.315628e+08  \n",
      "18             2771.0  1.086570e+08  2.791345e+08  \n",
      "20              342.0  3.657272e+07  5.151276e+07  \n",
      "21             3086.0  3.733561e+07  3.773978e+07  \n",
      "23              177.0  1.952125e+07  4.319212e+07  \n",
      "26               43.0  6.460426e+07  3.318107e+07  \n",
      "30              124.0  4.512897e+07  1.925020e+07  \n",
      "32               99.0  6.492888e+07  3.838842e+07  \n",
      "33              147.0  3.512638e+07  3.368421e+07  \n",
      "34               39.0  5.621274e+07  1.073678e+07  \n",
      "36              192.0  2.617443e+07  6.075614e+07  \n",
      "37              696.0  3.279635e+07  1.125090e+08  \n",
      "38              123.0  2.509413e+07  1.903134e+07  \n",
      "43               18.0  1.139456e+07  9.606259e+06  \n",
      "57               43.0  1.055917e+07  6.844597e+06  \n",
      "68              759.0  3.082403e+06  1.811336e+07  \n",
      "Количество выбросов: 30\n"
     ]
    }
   ],
   "source": [
    "q1 = covid_df['Total Deaths'].quantile(0.25)\n",
    "q3 = covid_df['Total Deaths'].quantile(0.75)\n",
    "iqr = q3 - q1\n",
    "outliers = ((covid_df['Total Deaths'] < (q1 - 1.5 * iqr)) | (covid_df['Total Deaths'] > (q3 + 1.5 * iqr)))\n",
    "print(\"Выбросы:\")\n",
    "print(covid_df[outliers])\n",
    "print(\"Количество выбросов:\", covid_df[outliers].shape[0])"
   ],
   "metadata": {
    "collapsed": false,
    "ExecuteTime": {
     "start_time": "2023-04-28T23:27:08.657949Z",
     "end_time": "2023-04-28T23:27:08.676868Z"
    }
   }
  },
  {
   "cell_type": "markdown",
   "source": [
    "#### Выбросы по столбцу Total Recovered"
   ],
   "metadata": {
    "collapsed": false
   }
  },
  {
   "cell_type": "code",
   "execution_count": 17,
   "outputs": [
    {
     "name": "stdout",
     "output_type": "stream",
     "text": [
      "Выбросы:\n",
      "         Country  Total Cases  Total Deaths  Total Recovered  Active Cases   \n",
      "0            USA     98166904     1084282.0       94962112.0     2120510.0  \\\n",
      "1          India     44587307      528629.0       44019095.0       39583.0   \n",
      "2         France     35342950      155078.0       34527115.0      660757.0   \n",
      "3         Brazil     34706757      686027.0       33838636.0      182094.0   \n",
      "4        Germany     33312373      149948.0       32315200.0      847225.0   \n",
      "5       S. Korea     24769101       28406.0       24013461.0      727234.0   \n",
      "6             UK     23621952      189919.0       23347871.0       84162.0   \n",
      "7          Italy     22432803      177054.0       21779604.0      476145.0   \n",
      "8          Japan     21229216       44678.0       20380089.0      804449.0   \n",
      "9         Russia     20948470      387163.0       19979763.0      581544.0   \n",
      "10        Turkey     16873793      101139.0       16754301.0       18353.0   \n",
      "11         Spain     13412263      114084.0       13218892.0       79287.0   \n",
      "12       Vietnam     11477886       43148.0       10590917.0      843821.0   \n",
      "13     Australia     10209239       14984.0       10133494.0       60761.0   \n",
      "14     Argentina      9708420      129897.0        9563348.0       15175.0   \n",
      "15   Netherlands      8422336       22643.0        8362464.0       37229.0   \n",
      "16          Iran      7548320      144421.0        7325370.0       78529.0   \n",
      "17        Mexico      7084488      330065.0        6353953.0      400470.0   \n",
      "18     Indonesia      6429767      158093.0        6253317.0       18357.0   \n",
      "19        Taiwan      6417941       11003.0        5603195.0      803743.0   \n",
      "20      Colombia      6307372      141794.0        6134690.0       30888.0   \n",
      "21        Poland      6289672      117539.0        5335940.0      836193.0   \n",
      "22      Portugal      5490639       25024.0        5394788.0       70827.0   \n",
      "23       Ukraine      5177217      109206.0        4973554.0       94457.0   \n",
      "24       Austria      5118512       20738.0        5006572.0       91202.0   \n",
      "25        Greece      4920192       33111.0        4836903.0       50178.0   \n",
      "26      Malaysia      4838872       36369.0        4777329.0       25174.0   \n",
      "27          DPRK      4772813          74.0        4772739.0           0.0   \n",
      "28      Thailand      4681309       32767.0        4642083.0        6459.0   \n",
      "29        Israel      4661096       11698.0        4641394.0        8004.0   \n",
      "30         Chile      4620377       61141.0        4540886.0       18350.0   \n",
      "31       Belgium      4533249       32659.0        4451569.0       49021.0   \n",
      "32        Canada      4233468       44992.0        4131367.0       57109.0   \n",
      "33          Peru      4143085      216539.0        3914598.0       11948.0   \n",
      "34       Czechia      4100480       41059.0        4035333.0       24088.0   \n",
      "35   Switzerland      4084307       14183.0        4012833.0       57291.0   \n",
      "36  South Africa      4018769      102185.0        3909265.0        7319.0   \n",
      "37   Philippines      3945566       62916.0        3854478.0       28172.0   \n",
      "\n",
      "    Serious, Critical   Total Tests    Population  \n",
      "0              2970.0  1.118159e+09  3.348053e+08  \n",
      "1               698.0  8.944169e+08  1.406632e+09  \n",
      "2               869.0  2.714902e+08  6.558452e+07  \n",
      "3              8318.0  6.377617e+07  2.153536e+08  \n",
      "4              1406.0  1.223324e+08  8.388360e+07  \n",
      "5               352.0  1.580406e+07  5.132990e+07  \n",
      "6               146.0  5.225265e+08  6.849791e+07  \n",
      "7               141.0  2.466365e+08  6.026277e+07  \n",
      "8               204.0  7.620141e+07  1.255848e+08  \n",
      "9              2300.0  2.734000e+08  1.458059e+08  \n",
      "10              975.0  1.627434e+08  8.556198e+07  \n",
      "11              339.0  4.710363e+08  4.671914e+07  \n",
      "12              106.0  8.582655e+07  9.895354e+07  \n",
      "13               49.0  7.883505e+07  2.606879e+07  \n",
      "14              294.0  3.571607e+07  4.601023e+07  \n",
      "15               35.0  2.110740e+07  1.721145e+07  \n",
      "16              157.0  5.409556e+07  8.602284e+07  \n",
      "17             4798.0  1.839321e+07  1.315628e+08  \n",
      "18             2771.0  1.086570e+08  2.791345e+08  \n",
      "19                NaN  2.599842e+07  2.388860e+07  \n",
      "20              342.0  3.657272e+07  5.151276e+07  \n",
      "21             3086.0  3.733561e+07  3.773978e+07  \n",
      "22               61.0  4.498831e+07  1.014057e+07  \n",
      "23              177.0  1.952125e+07  4.319212e+07  \n",
      "24               47.0  1.975438e+08  9.066710e+06  \n",
      "25              115.0  9.413997e+07  1.031664e+07  \n",
      "26               43.0  6.460426e+07  3.318107e+07  \n",
      "27                NaN           NaN  2.599068e+07  \n",
      "28             1496.0  1.727078e+07  7.007820e+07  \n",
      "29              101.0  4.137336e+07  9.326000e+06  \n",
      "30              124.0  4.512897e+07  1.925020e+07  \n",
      "31               48.0  3.555551e+07  1.166828e+07  \n",
      "32               99.0  6.492888e+07  3.838842e+07  \n",
      "33              147.0  3.512638e+07  3.368421e+07  \n",
      "34               39.0  5.621274e+07  1.073678e+07  \n",
      "35               54.0  2.231854e+07  8.773637e+06  \n",
      "36              192.0  2.617443e+07  6.075614e+07  \n",
      "37              696.0  3.279635e+07  1.125090e+08  \n",
      "Количество выбросов: 38\n"
     ]
    }
   ],
   "source": [
    "q1 = covid_df['Total Recovered'].quantile(0.25)\n",
    "q3 = covid_df['Total Recovered'].quantile(0.75)\n",
    "iqr = q3 - q1\n",
    "outliers = ((covid_df['Total Recovered'] < (q1 - 1.5 * iqr)) | (covid_df['Total Recovered'] > (q3 + 1.5 * iqr)))\n",
    "print(\"Выбросы:\")\n",
    "print(covid_df[outliers])\n",
    "print(\"Количество выбросов:\", covid_df[outliers].shape[0])"
   ],
   "metadata": {
    "collapsed": false,
    "ExecuteTime": {
     "start_time": "2023-04-28T23:27:08.672868Z",
     "end_time": "2023-04-28T23:27:08.683944Z"
    }
   }
  },
  {
   "cell_type": "markdown",
   "source": [
    "#### Выбросы по столбцу Active Cases"
   ],
   "metadata": {
    "collapsed": false
   }
  },
  {
   "cell_type": "code",
   "execution_count": 18,
   "outputs": [
    {
     "name": "stdout",
     "output_type": "stream",
     "text": [
      "Выбросы:\n",
      "           Country  Total Cases  Total Deaths  Total Recovered  Active Cases   \n",
      "0              USA     98166904     1084282.0       94962112.0     2120510.0  \\\n",
      "2           France     35342950      155078.0       34527115.0      660757.0   \n",
      "3           Brazil     34706757      686027.0       33838636.0      182094.0   \n",
      "4          Germany     33312373      149948.0       32315200.0      847225.0   \n",
      "5         S. Korea     24769101       28406.0       24013461.0      727234.0   \n",
      "6               UK     23621952      189919.0       23347871.0       84162.0   \n",
      "7            Italy     22432803      177054.0       21779604.0      476145.0   \n",
      "8            Japan     21229216       44678.0       20380089.0      804449.0   \n",
      "9           Russia     20948470      387163.0       19979763.0      581544.0   \n",
      "11           Spain     13412263      114084.0       13218892.0       79287.0   \n",
      "12         Vietnam     11477886       43148.0       10590917.0      843821.0   \n",
      "13       Australia     10209239       14984.0       10133494.0       60761.0   \n",
      "16            Iran      7548320      144421.0        7325370.0       78529.0   \n",
      "17          Mexico      7084488      330065.0        6353953.0      400470.0   \n",
      "19          Taiwan      6417941       11003.0        5603195.0      803743.0   \n",
      "21          Poland      6289672      117539.0        5335940.0      836193.0   \n",
      "22        Portugal      5490639       25024.0        5394788.0       70827.0   \n",
      "23         Ukraine      5177217      109206.0        4973554.0       94457.0   \n",
      "24         Austria      5118512       20738.0        5006572.0       91202.0   \n",
      "25          Greece      4920192       33111.0        4836903.0       50178.0   \n",
      "31         Belgium      4533249       32659.0        4451569.0       49021.0   \n",
      "32          Canada      4233468       44992.0        4131367.0       57109.0   \n",
      "35     Switzerland      4084307       14183.0        4012833.0       57291.0   \n",
      "45       Singapore      1904192        1617.0        1821160.0       81415.0   \n",
      "47         Georgia      1780691       16900.0        1637293.0      126498.0   \n",
      "49       Hong Kong      1761381       10153.0        1469240.0      281988.0   \n",
      "60         Lebanon      1215511       10674.0        1087587.0      117250.0   \n",
      "66      Costa Rica      1072807        8913.0         860711.0      203183.0   \n",
      "84         Estonia       601869        2681.0         524990.0       74198.0   \n",
      "85         Moldova       589388       11844.0         504142.0       73402.0   \n",
      "88           Egypt       515645       24613.0         442182.0       48850.0   \n",
      "91         Réunion       472336         893.0         418572.0       52871.0   \n",
      "104        Algeria       270668        6879.0         182306.0       81483.0   \n",
      "120         Uganda       169396        3628.0         100431.0       65337.0   \n",
      "123        Jamaica       151829        3317.0          99239.0       49273.0   \n",
      "130  French Guiana        93974         410.0          11254.0       82310.0   \n",
      "\n",
      "     Serious, Critical   Total Tests   Population  \n",
      "0               2970.0  1.118159e+09  334805269.0  \n",
      "2                869.0  2.714902e+08   65584518.0  \n",
      "3               8318.0  6.377617e+07  215353593.0  \n",
      "4               1406.0  1.223324e+08   83883596.0  \n",
      "5                352.0  1.580406e+07   51329899.0  \n",
      "6                146.0  5.225265e+08   68497907.0  \n",
      "7                141.0  2.466365e+08   60262770.0  \n",
      "8                204.0  7.620141e+07  125584838.0  \n",
      "9               2300.0  2.734000e+08  145805947.0  \n",
      "11               339.0  4.710363e+08   46719142.0  \n",
      "12               106.0  8.582655e+07   98953541.0  \n",
      "13                49.0  7.883505e+07   26068792.0  \n",
      "16               157.0  5.409556e+07   86022837.0  \n",
      "17              4798.0  1.839321e+07  131562772.0  \n",
      "19                 NaN  2.599842e+07   23888595.0  \n",
      "21              3086.0  3.733561e+07   37739785.0  \n",
      "22                61.0  4.498831e+07   10140570.0  \n",
      "23               177.0  1.952125e+07   43192122.0  \n",
      "24                47.0  1.975438e+08    9066710.0  \n",
      "25               115.0  9.413997e+07   10316637.0  \n",
      "31                48.0  3.555551e+07   11668278.0  \n",
      "32                99.0  6.492888e+07   38388419.0  \n",
      "35                54.0  2.231854e+07    8773637.0  \n",
      "45                 9.0  2.434502e+07    5943546.0  \n",
      "47                 NaN  1.692008e+07    3968738.0  \n",
      "49                 8.0  5.435213e+07    7604299.0  \n",
      "60                74.0  4.795578e+06    6684849.0  \n",
      "66                52.0  4.659757e+06    5182354.0  \n",
      "84                 4.0  3.536858e+06    1321910.0  \n",
      "85                49.0  3.216305e+06    4013171.0  \n",
      "88               122.0  3.693367e+06  106156692.0  \n",
      "91                10.0  1.603660e+06     908061.0  \n",
      "104                6.0  2.308610e+05   45350148.0  \n",
      "120                3.0  3.012408e+06   48432863.0  \n",
      "123                NaN  1.183986e+06    2985094.0  \n",
      "130                3.0  6.512570e+05     314169.0  \n",
      "Количество выбросов: 36\n"
     ]
    }
   ],
   "source": [
    "q1 = covid_df['Active Cases'].quantile(0.25)\n",
    "q3 = covid_df['Active Cases'].quantile(0.75)\n",
    "iqr = q3 - q1\n",
    "outliers = ((covid_df['Active Cases'] < (q1 - 1.5 * iqr)) | (covid_df['Active Cases'] > (q3 + 1.5 * iqr)))\n",
    "print(\"Выбросы:\")\n",
    "print(covid_df[outliers])\n",
    "print(\"Количество выбросов:\", covid_df[outliers].shape[0])"
   ],
   "metadata": {
    "collapsed": false,
    "ExecuteTime": {
     "start_time": "2023-04-28T23:27:08.684947Z",
     "end_time": "2023-04-28T23:27:08.754495Z"
    }
   }
  },
  {
   "cell_type": "markdown",
   "source": [
    "#### Выбросы по столбцу Serious, Critical"
   ],
   "metadata": {
    "collapsed": false
   }
  },
  {
   "cell_type": "code",
   "execution_count": 19,
   "outputs": [
    {
     "name": "stdout",
     "output_type": "stream",
     "text": [
      "Выбросы:\n",
      "         Country  Total Cases  Total Deaths  Total Recovered  Active Cases   \n",
      "0            USA     98166904     1084282.0       94962112.0     2120510.0  \\\n",
      "1          India     44587307      528629.0       44019095.0       39583.0   \n",
      "2         France     35342950      155078.0       34527115.0      660757.0   \n",
      "3         Brazil     34706757      686027.0       33838636.0      182094.0   \n",
      "4        Germany     33312373      149948.0       32315200.0      847225.0   \n",
      "5       S. Korea     24769101       28406.0       24013461.0      727234.0   \n",
      "9         Russia     20948470      387163.0       19979763.0      581544.0   \n",
      "10        Turkey     16873793      101139.0       16754301.0       18353.0   \n",
      "11         Spain     13412263      114084.0       13218892.0       79287.0   \n",
      "14     Argentina      9708420      129897.0        9563348.0       15175.0   \n",
      "17        Mexico      7084488      330065.0        6353953.0      400470.0   \n",
      "18     Indonesia      6429767      158093.0        6253317.0       18357.0   \n",
      "20      Colombia      6307372      141794.0        6134690.0       30888.0   \n",
      "21        Poland      6289672      117539.0        5335940.0      836193.0   \n",
      "28      Thailand      4681309       32767.0        4642083.0        6459.0   \n",
      "37   Philippines      3945566       62916.0        3854478.0       28172.0   \n",
      "44    Bangladesh      2024489       29362.0        1964501.0       30626.0   \n",
      "56       Morocco      1264935       16278.0        1248543.0         114.0   \n",
      "68       Ecuador      1003778       35894.0         964320.0        3564.0   \n",
      "116  Afghanistan       199067        7799.0         177850.0       13418.0   \n",
      "\n",
      "     Serious, Critical   Total Tests    Population  \n",
      "0               2970.0  1.118159e+09  3.348053e+08  \n",
      "1                698.0  8.944169e+08  1.406632e+09  \n",
      "2                869.0  2.714902e+08  6.558452e+07  \n",
      "3               8318.0  6.377617e+07  2.153536e+08  \n",
      "4               1406.0  1.223324e+08  8.388360e+07  \n",
      "5                352.0  1.580406e+07  5.132990e+07  \n",
      "9               2300.0  2.734000e+08  1.458059e+08  \n",
      "10               975.0  1.627434e+08  8.556198e+07  \n",
      "11               339.0  4.710363e+08  4.671914e+07  \n",
      "14               294.0  3.571607e+07  4.601023e+07  \n",
      "17              4798.0  1.839321e+07  1.315628e+08  \n",
      "18              2771.0  1.086570e+08  2.791345e+08  \n",
      "20               342.0  3.657272e+07  5.151276e+07  \n",
      "21              3086.0  3.733561e+07  3.773978e+07  \n",
      "28              1496.0  1.727078e+07  7.007820e+07  \n",
      "37               696.0  3.279635e+07  1.125090e+08  \n",
      "44              1331.0  1.487226e+07  1.678857e+08  \n",
      "56               293.0  1.257765e+07  3.777276e+07  \n",
      "68               759.0  3.082403e+06  1.811336e+07  \n",
      "116             1124.0  1.103716e+06  4.075439e+07  \n",
      "Количество выбросов: 20\n"
     ]
    }
   ],
   "source": [
    "q1 = covid_df['Serious, Critical'].quantile(0.25)\n",
    "q3 = covid_df['Serious, Critical'].quantile(0.75)\n",
    "iqr = q3 - q1\n",
    "outliers = ((covid_df['Serious, Critical'] < (q1 - 1.5 * iqr)) | (covid_df['Serious, Critical'] > (q3 + 1.5 * iqr)))\n",
    "print(\"Выбросы:\")\n",
    "print(covid_df[outliers])\n",
    "print(\"Количество выбросов:\", covid_df[outliers].shape[0])"
   ],
   "metadata": {
    "collapsed": false,
    "ExecuteTime": {
     "start_time": "2023-04-28T23:27:08.697229Z",
     "end_time": "2023-04-28T23:27:08.755493Z"
    }
   }
  },
  {
   "cell_type": "markdown",
   "source": [
    "#### Выбросы по столбцу Total Tests"
   ],
   "metadata": {
    "collapsed": false
   }
  },
  {
   "cell_type": "code",
   "execution_count": 20,
   "outputs": [
    {
     "name": "stdout",
     "output_type": "stream",
     "text": [
      "Выбросы:\n",
      "          Country  Total Cases  Total Deaths  Total Recovered  Active Cases   \n",
      "0             USA     98166904     1084282.0       94962112.0     2120510.0  \\\n",
      "1           India     44587307      528629.0       44019095.0       39583.0   \n",
      "2          France     35342950      155078.0       34527115.0      660757.0   \n",
      "3          Brazil     34706757      686027.0       33838636.0      182094.0   \n",
      "4         Germany     33312373      149948.0       32315200.0      847225.0   \n",
      "6              UK     23621952      189919.0       23347871.0       84162.0   \n",
      "7           Italy     22432803      177054.0       21779604.0      476145.0   \n",
      "8           Japan     21229216       44678.0       20380089.0      804449.0   \n",
      "9          Russia     20948470      387163.0       19979763.0      581544.0   \n",
      "10         Turkey     16873793      101139.0       16754301.0       18353.0   \n",
      "11          Spain     13412263      114084.0       13218892.0       79287.0   \n",
      "12        Vietnam     11477886       43148.0       10590917.0      843821.0   \n",
      "13      Australia     10209239       14984.0       10133494.0       60761.0   \n",
      "14      Argentina      9708420      129897.0        9563348.0       15175.0   \n",
      "16           Iran      7548320      144421.0        7325370.0       78529.0   \n",
      "18      Indonesia      6429767      158093.0        6253317.0       18357.0   \n",
      "20       Colombia      6307372      141794.0        6134690.0       30888.0   \n",
      "21         Poland      6289672      117539.0        5335940.0      836193.0   \n",
      "22       Portugal      5490639       25024.0        5394788.0       70827.0   \n",
      "24        Austria      5118512       20738.0        5006572.0       91202.0   \n",
      "25         Greece      4920192       33111.0        4836903.0       50178.0   \n",
      "26       Malaysia      4838872       36369.0        4777329.0       25174.0   \n",
      "29         Israel      4661096       11698.0        4641394.0        8004.0   \n",
      "30          Chile      4620377       61141.0        4540886.0       18350.0   \n",
      "31        Belgium      4533249       32659.0        4451569.0       49021.0   \n",
      "32         Canada      4233468       44992.0        4131367.0       57109.0   \n",
      "33           Peru      4143085      216539.0        3914598.0       11948.0   \n",
      "34        Czechia      4100480       41059.0        4035333.0       24088.0   \n",
      "37    Philippines      3945566       62916.0        3854478.0       28172.0   \n",
      "39        Denmark      3110831        7065.0        3093396.0       10370.0   \n",
      "49      Hong Kong      1761381       10153.0        1469240.0      281988.0   \n",
      "67            UAE      1027031        2345.0        1006369.0       18317.0   \n",
      "76   Saudi Arabia       816389        9351.0         803546.0        3492.0   \n",
      "107         China       250449        5226.0         242254.0        2969.0   \n",
      "\n",
      "     Serious, Critical   Total Tests    Population  \n",
      "0               2970.0  1.118159e+09  3.348053e+08  \n",
      "1                698.0  8.944169e+08  1.406632e+09  \n",
      "2                869.0  2.714902e+08  6.558452e+07  \n",
      "3               8318.0  6.377617e+07  2.153536e+08  \n",
      "4               1406.0  1.223324e+08  8.388360e+07  \n",
      "6                146.0  5.225265e+08  6.849791e+07  \n",
      "7                141.0  2.466365e+08  6.026277e+07  \n",
      "8                204.0  7.620141e+07  1.255848e+08  \n",
      "9               2300.0  2.734000e+08  1.458059e+08  \n",
      "10               975.0  1.627434e+08  8.556198e+07  \n",
      "11               339.0  4.710363e+08  4.671914e+07  \n",
      "12               106.0  8.582655e+07  9.895354e+07  \n",
      "13                49.0  7.883505e+07  2.606879e+07  \n",
      "14               294.0  3.571607e+07  4.601023e+07  \n",
      "16               157.0  5.409556e+07  8.602284e+07  \n",
      "18              2771.0  1.086570e+08  2.791345e+08  \n",
      "20               342.0  3.657272e+07  5.151276e+07  \n",
      "21              3086.0  3.733561e+07  3.773978e+07  \n",
      "22                61.0  4.498831e+07  1.014057e+07  \n",
      "24                47.0  1.975438e+08  9.066710e+06  \n",
      "25               115.0  9.413997e+07  1.031664e+07  \n",
      "26                43.0  6.460426e+07  3.318107e+07  \n",
      "29               101.0  4.137336e+07  9.326000e+06  \n",
      "30               124.0  4.512897e+07  1.925020e+07  \n",
      "31                48.0  3.555551e+07  1.166828e+07  \n",
      "32                99.0  6.492888e+07  3.838842e+07  \n",
      "33               147.0  3.512638e+07  3.368421e+07  \n",
      "34                39.0  5.621274e+07  1.073678e+07  \n",
      "37               696.0  3.279635e+07  1.125090e+08  \n",
      "39                 NaN  1.283977e+08  5.834950e+06  \n",
      "49                 8.0  5.435213e+07  7.604299e+06  \n",
      "67                 NaN  1.905867e+08  1.008178e+07  \n",
      "76                32.0  4.432115e+07  3.584491e+07  \n",
      "107               36.0  1.600000e+08  1.448471e+09  \n",
      "Количество выбросов: 34\n"
     ]
    }
   ],
   "source": [
    "q1 = covid_df['Total Tests'].quantile(0.25)\n",
    "q3 = covid_df['Total Tests'].quantile(0.75)\n",
    "iqr = q3 - q1\n",
    "outliers = ((covid_df['Total Tests'] < (q1 - 1.5 * iqr)) | (covid_df['Total Tests'] > (q3 + 1.5 * iqr)))\n",
    "print(\"Выбросы:\")\n",
    "print(covid_df[outliers])\n",
    "print(\"Количество выбросов:\", covid_df[outliers].shape[0])"
   ],
   "metadata": {
    "collapsed": false,
    "ExecuteTime": {
     "start_time": "2023-04-28T23:27:08.709190Z",
     "end_time": "2023-04-28T23:27:08.755493Z"
    }
   }
  },
  {
   "cell_type": "markdown",
   "source": [
    "#### Выбросы по столбцу Population"
   ],
   "metadata": {
    "collapsed": false
   }
  },
  {
   "cell_type": "code",
   "execution_count": 21,
   "outputs": [
    {
     "name": "stdout",
     "output_type": "stream",
     "text": [
      "Выбросы:\n",
      "          Country  Total Cases  Total Deaths  Total Recovered  Active Cases   \n",
      "0             USA     98166904     1084282.0       94962112.0     2120510.0  \\\n",
      "1           India     44587307      528629.0       44019095.0       39583.0   \n",
      "2          France     35342950      155078.0       34527115.0      660757.0   \n",
      "3          Brazil     34706757      686027.0       33838636.0      182094.0   \n",
      "4         Germany     33312373      149948.0       32315200.0      847225.0   \n",
      "6              UK     23621952      189919.0       23347871.0       84162.0   \n",
      "7           Italy     22432803      177054.0       21779604.0      476145.0   \n",
      "8           Japan     21229216       44678.0       20380089.0      804449.0   \n",
      "9          Russia     20948470      387163.0       19979763.0      581544.0   \n",
      "10         Turkey     16873793      101139.0       16754301.0       18353.0   \n",
      "12        Vietnam     11477886       43148.0       10590917.0      843821.0   \n",
      "16           Iran      7548320      144421.0        7325370.0       78529.0   \n",
      "17         Mexico      7084488      330065.0        6353953.0      400470.0   \n",
      "18      Indonesia      6429767      158093.0        6253317.0       18357.0   \n",
      "28       Thailand      4681309       32767.0        4642083.0        6459.0   \n",
      "36   South Africa      4018769      102185.0        3909265.0        7319.0   \n",
      "37    Philippines      3945566       62916.0        3854478.0       28172.0   \n",
      "44     Bangladesh      2024489       29362.0        1964501.0       30626.0   \n",
      "52       Pakistan      1572598       30616.0        1536924.0        5058.0   \n",
      "88          Egypt       515645       24613.0         442182.0       48850.0   \n",
      "90       Ethiopia       493563        7572.0         471918.0       14073.0   \n",
      "98          Kenya       338420        5678.0         332663.0          79.0   \n",
      "105       Nigeria       265382        3155.0         258381.0        3846.0   \n",
      "107         China       250449        5226.0         242254.0        2969.0   \n",
      "131           DRC        92852        1442.0          83504.0        7906.0   \n",
      "158      Tanzania        39440         845.0              NaN           NaN   \n",
      "\n",
      "     Serious, Critical   Total Tests    Population  \n",
      "0               2970.0  1.118159e+09  3.348053e+08  \n",
      "1                698.0  8.944169e+08  1.406632e+09  \n",
      "2                869.0  2.714902e+08  6.558452e+07  \n",
      "3               8318.0  6.377617e+07  2.153536e+08  \n",
      "4               1406.0  1.223324e+08  8.388360e+07  \n",
      "6                146.0  5.225265e+08  6.849791e+07  \n",
      "7                141.0  2.466365e+08  6.026277e+07  \n",
      "8                204.0  7.620141e+07  1.255848e+08  \n",
      "9               2300.0  2.734000e+08  1.458059e+08  \n",
      "10               975.0  1.627434e+08  8.556198e+07  \n",
      "12               106.0  8.582655e+07  9.895354e+07  \n",
      "16               157.0  5.409556e+07  8.602284e+07  \n",
      "17              4798.0  1.839321e+07  1.315628e+08  \n",
      "18              2771.0  1.086570e+08  2.791345e+08  \n",
      "28              1496.0  1.727078e+07  7.007820e+07  \n",
      "36               192.0  2.617443e+07  6.075614e+07  \n",
      "37               696.0  3.279635e+07  1.125090e+08  \n",
      "44              1331.0  1.487226e+07  1.678857e+08  \n",
      "52                47.0  3.047745e+07  2.294890e+08  \n",
      "88               122.0  3.693367e+06  1.061567e+08  \n",
      "90                 1.0  5.258807e+06  1.208127e+08  \n",
      "98                 1.0  3.881967e+06  5.621522e+07  \n",
      "105               11.0  5.441162e+06  2.167469e+08  \n",
      "107               36.0  1.600000e+08  1.448471e+09  \n",
      "131                NaN  8.467040e+05  9.524079e+07  \n",
      "158                7.0           NaN  6.329855e+07  \n",
      "Количество выбросов: 26\n"
     ]
    }
   ],
   "source": [
    "q1 = covid_df['Population'].quantile(0.25)\n",
    "q3 = covid_df['Population'].quantile(0.75)\n",
    "iqr = q3 - q1\n",
    "outliers = ((covid_df['Population'] < (q1 - 1.5 * iqr)) | (covid_df['Population'] > (q3 + 1.5 * iqr)))\n",
    "print(\"Выбросы:\")\n",
    "print(covid_df[outliers])\n",
    "print(\"Количество выбросов:\", covid_df[outliers].shape[0])"
   ],
   "metadata": {
    "collapsed": false,
    "ExecuteTime": {
     "start_time": "2023-04-28T23:27:08.720731Z",
     "end_time": "2023-04-28T23:27:08.756495Z"
    }
   }
  },
  {
   "cell_type": "markdown",
   "metadata": {},
   "source": [
    "### Проверка гипотезы:\n",
    "Пример проверки гипотезы о равенстве средних значений двух выборок\n",
    "H0: Total Cases = Total Recovered\n",
    "H1: Total Cases > Total Recovered"
   ]
  },
  {
   "cell_type": "code",
   "execution_count": 22,
   "metadata": {
    "ExecuteTime": {
     "start_time": "2023-04-28T23:27:08.732727Z",
     "end_time": "2023-04-28T23:27:08.756495Z"
    }
   },
   "outputs": [
    {
     "name": "stdout",
     "output_type": "stream",
     "text": [
      "p-значение: 0.4594578158332527\n",
      "Принимаем нулевую гипотезу\n"
     ]
    }
   ],
   "source": [
    "import scipy.stats as stats\n",
    "\n",
    "# Удаляем строки с пропущенными значениями в столбцах Total Cases и Total Recovered\n",
    "covid_df_clean = covid_df.dropna(subset=['Total Cases', 'Total Recovered'])\n",
    "\n",
    "# Проводим t-тест\n",
    "t_statistic, p_value = stats.ttest_ind(covid_df_clean['Total Cases'], covid_df_clean['Total Recovered'],\n",
    "                                       alternative='greater')\n",
    "alpha = 0.05\n",
    "\n",
    "print(\"p-значение:\", p_value)\n",
    "print('Принимаем нулевую гипотезу' if p_value > alpha else 'Отвергаем нулевую гипотезу')\n"
   ]
  },
  {
   "cell_type": "markdown",
   "metadata": {},
   "source": [
    "### Построение линейной регрессии"
   ]
  },
  {
   "cell_type": "code",
   "execution_count": 23,
   "metadata": {
    "ExecuteTime": {
     "start_time": "2023-04-28T23:27:08.737495Z",
     "end_time": "2023-04-28T23:27:08.924484Z"
    }
   },
   "outputs": [
    {
     "data": {
      "text/plain": "<Axes: xlabel='Total Cases', ylabel='Total Tests'>"
     },
     "execution_count": 23,
     "metadata": {},
     "output_type": "execute_result"
    },
    {
     "data": {
      "text/plain": "<Figure size 640x480 with 1 Axes>",
      "image/png": "[encoded data removed]"
     },
     "metadata": {},
     "output_type": "display_data"
    }
   ],
   "source": [
    "import seaborn as sns\n",
    "\n",
    "sns.regplot(x='Total Cases', y='Total Tests', data=covid_df)\n"
   ]
  },
  {
   "cell_type": "markdown",
   "source": [
    "# Отчет\n",
    "\n",
    "1. Работали с данными по COVID-19. Основная информация: Количество наблюдений - 230. Количество переменных - 8. Типы переменных - Country object, Total Cases int32, Total Deaths float64, Total Recovered float64, Active Cases float64, Serious, Critical float64, Total Tests float64, Population float64. Пропущенные значения - Country: 0, Total Cases: 0, Total Deaths: 5, Total Recovered: 16, Active Cases: 15, Serious, Critical: 83, Total Tests: 16, Population: 2\n",
    "2. Средние, минимальные и максимальные значения по каждому столбцу:\n",
    "    Total Cases: 2.705969e+06 9 9.816690e+07\n",
    "    Total Deaths: 2.909820e+04 1 2.250000e+02\n",
    "    Total Recovered: 2.807255e+06 2 9.496211e+07\n",
    "    Active Cases: 2.807255e+06 0 2.120510e+06\n",
    "    Serious, Critical: 270.224490 1 8318\n",
    "    Total Tests: 3.137011e+07 5.117000e+03 1.118159e+09\n",
    "    Population: 3.484620e+07 7.990000e+02 1.448471e+09\n",
    "3. Корелляция показала, что наибольшая корреляция наблюдается между столбцами Total Cases и Total Recovered (0.99), а наименьшая - между столбцами Population и Active Cases (0.15). Также высокая корелляция наблюдается между столбцами Serious, Critical и Total Deaths (0.7), а также между столбцами Total Tests и Total Cases (0.86).\n",
    "<!DOCTYPE html>\n",
    "<html>\n",
    "  <head>\n",
    "    <title></title>\n",
    "    <meta charset=\"UTF-8\">\n",
    "  </head>\n",
    "<body>\n",
    "<table border=\"1\" style=\"border-collapse:collapse\">\n",
    "<tr>\n",
    "  <th></th>\n",
    "  <th>Active Cases</th>\n",
    "  <th>Population</th>\n",
    "  <th>Serious, Critical</th>\n",
    "  <th>Total Cases</th>\n",
    "  <th>Total Deaths</th>\n",
    "  <th>Total Recovered</th>\n",
    "  <th>Total Tests</th>\n",
    "</tr>\n",
    "<tr>\n",
    "  <td>Active Cases</td>\n",
    "  <td>1.000000</td>\n",
    "  <td>0.155051</td>\n",
    "  <td>0.409526</td>\n",
    "  <td>0.804822</td>\n",
    "  <td>0.655613</td>\n",
    "  <td>0.797077</td>\n",
    "  <td>0.583222</td>\n",
    "</tr>\n",
    "<tr>\n",
    "  <td>Population</td>\n",
    "  <td>0.155051</td>\n",
    "  <td>1.000000</td>\n",
    "  <td>0.202859</td>\n",
    "  <td>0.391914</td>\n",
    "  <td>0.418265</td>\n",
    "  <td>0.392310</td>\n",
    "  <td>0.542239</td>\n",
    "</tr>\n",
    "<tr>\n",
    "  <td>Serious, Critical</td>\n",
    "  <td>0.409526</td>\n",
    "  <td>0.202859</td>\n",
    "  <td>1.000000</td>\n",
    "  <td>0.496345</td>\n",
    "  <td>0.706480</td>\n",
    "  <td>0.490444</td>\n",
    "  <td>0.271132</td>\n",
    "</tr>\n",
    "<tr>\n",
    "  <td>Total Cases</td>\n",
    "  <td>0.804822</td>\n",
    "  <td>0.391914</td>\n",
    "  <td>0.496345</td>\n",
    "  <td>1.000000</td>\n",
    "  <td>0.890765</td>\n",
    "  <td>0.999904</td>\n",
    "  <td>0.860259</td>\n",
    "</tr>\n",
    "<tr>\n",
    "  <td>Total Deaths</td>\n",
    "  <td>0.655613</td>\n",
    "  <td>0.418265</td>\n",
    "  <td>0.706480</td>\n",
    "  <td>0.890765</td>\n",
    "  <td>1.000000</td>\n",
    "  <td>0.889144</td>\n",
    "  <td>0.786278</td>\n",
    "</tr>\n",
    "<tr>\n",
    "  <td>Total Recovered</td>\n",
    "  <td>0.797077</td>\n",
    "  <td>0.392310</td>\n",
    "  <td>0.490444</td>\n",
    "  <td>0.999904</td>\n",
    "  <td>0.889144</td>\n",
    "  <td>1.000000</td>\n",
    "  <td>0.861810</td>\n",
    "</tr>\n",
    "<tr>\n",
    "  <td>Total Tests</td>\n",
    "  <td>0.583222</td>\n",
    "  <td>0.542239</td>\n",
    "  <td>0.271132</td>\n",
    "  <td>0.860259</td>\n",
    "  <td>0.786278</td>\n",
    "  <td>0.861810</td>\n",
    "  <td>1.000000</td>\n",
    "</tr>\n",
    "</table>\n",
    "</body>\n",
    "</html>\n",
    "\n",
    "4. Выбросы\n",
    "    Total Cases: 40\n",
    "    Total Deaths: 30\n",
    "    Total Recovered: 38\n",
    "    Active Cases: 36\n",
    "    Serious, Critical: 20\n",
    "    Total Tests: 34\n",
    "    Population: 26\n",
    "\n",
    "5. Гипотеза о том, что Total Cases и Total Recovered схожи, подтверждена\n"
   ],
   "metadata": {
    "collapsed": false
   }
  }
 ],
 "metadata": {
  "kernelspec": {
   "display_name": "Python 3 (ipykernel)",
   "language": "python",
   "name": "python3"
  },
  "language_info": {
   "codemirror_mode": {
    "name": "ipython",
    "version": 3
   },
   "file_extension": ".py",
   "mimetype": "text/x-python",
   "name": "python",
   "nbconvert_exporter": "python",
   "pygments_lexer": "ipython3",
   "version": "3.11.0"
  }
 },
 "nbformat": 4,
 "nbformat_minor": 1
}
